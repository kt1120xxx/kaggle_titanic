{
  "nbformat": 4,
  "nbformat_minor": 0,
  "metadata": {
    "colab": {
      "name": "kaggaleTitanic.ipynb",
      "provenance": [],
      "collapsed_sections": [],
      "mount_file_id": "1aqDfjhdQNaJ3fBvaKP_IXKkgLD86NkRE",
      "authorship_tag": "ABX9TyM4MFsFbutsEMKbXsvbRfT9",
      "include_colab_link": true
    },
    "kernelspec": {
      "name": "python3",
      "display_name": "Python 3"
    },
    "accelerator": "GPU"
  },
  "cells": [
    {
      "cell_type": "markdown",
      "metadata": {
        "id": "view-in-github",
        "colab_type": "text"
      },
      "source": [
        "<a href=\"https://colab.research.google.com/github/kt1120xxx/kaggle_titanic/blob/master/kaggaleTitanic.ipynb\" target=\"_parent\"><img src=\"https://colab.research.google.com/assets/colab-badge.svg\" alt=\"Open In Colab\"/></a>"
      ]
    },
    {
      "cell_type": "markdown",
      "metadata": {
        "id": "eQ7Idw_xtNlP",
        "colab_type": "text"
      },
      "source": [
        "インポート"
      ]
    },
    {
      "cell_type": "code",
      "metadata": {
        "id": "oczglY-0ku3z",
        "colab_type": "code",
        "colab": {}
      },
      "source": [
        "import pandas as pd\n",
        "import numpy as np\n",
        "df = pd.read_csv('/content/drive/My Drive/kaggle/input/train.csv')\n",
        "\n",
        "import matplotlib.pyplot as plt\n",
        "import seaborn as sns\n",
        "%matplotlib inline"
      ],
      "execution_count": 13,
      "outputs": []
    },
    {
      "cell_type": "markdown",
      "metadata": {
        "id": "RI416doOtbK6",
        "colab_type": "text"
      },
      "source": [
        "データの前処理"
      ]
    },
    {
      "cell_type": "code",
      "metadata": {
        "id": "hRfntEDGtd8T",
        "colab_type": "code",
        "colab": {}
      },
      "source": [
        "#各行・列ごとに欠損値を一つでも含むか確認\n",
        "df.isnull().sum()\n",
        "from sklearn.model_selection import  train_test_split\n",
        "#欠損値処理\n",
        "df['Fare'] = df['Fare'].fillna(df['Fare'].median())\n",
        "df['Age'] = df['Age'].fillna(df['Age'].median())\n",
        "df['Embarked'] = df['Embarked'].fillna('S')\n",
        "\n",
        "#カテゴリ変数の変換\n",
        "df['Sex'] = df['Sex'].apply(lambda x: 1 if x == 'male' else 0)\n",
        "df['Embarked'] = df['Embarked'].map( {'S': 0 , 'C':1 , 'Q':2}).astype(int)\n",
        "\n",
        "#不要なcolumnを削除\n",
        "df = df.drop(['Cabin','Name','PassengerId','Ticket'],axis =1)\n",
        "\n",
        "#学習データとテストデータに分割\n",
        "train_X = df.drop('Survived',axis = 1)\n",
        "train_y = df.Survived\n",
        "(train_X , test_X , train_y , test_y) = train_test_split(train_X, train_y , test_size = 0.3 , random_state = 0)"
      ],
      "execution_count": 14,
      "outputs": []
    },
    {
      "cell_type": "markdown",
      "metadata": {
        "id": "C3AuhGlftliw",
        "colab_type": "text"
      },
      "source": [
        "決定木"
      ]
    },
    {
      "cell_type": "code",
      "metadata": {
        "id": "9Yy8shujtqDa",
        "colab_type": "code",
        "colab": {
          "base_uri": "https://localhost:8080/",
          "height": 34
        },
        "outputId": "0eb4bfda-26c8-432e-ae72-eca48589d43c"
      },
      "source": [
        "# ランダムフォレストの実施\n",
        "from sklearn.ensemble import RandomForestClassifier\n",
        "clf = RandomForestClassifier(n_estimators = 10,max_depth=5,random_state = 0)\n",
        "clf = clf.fit(train_X , train_y)\n",
        "pred = clf.predict(test_X)\n",
        "fpr, tpr , thresholds = roc_curve(test_y,pred,pos_label = 1)\n",
        "auc(fpr,tpr)\n",
        "accuracy_score(pred,test_y)"
      ],
      "execution_count": 17,
      "outputs": [
        {
          "output_type": "execute_result",
          "data": {
            "text/plain": [
              "0.8283582089552238"
            ]
          },
          "metadata": {
            "tags": []
          },
          "execution_count": 17
        }
      ]
    },
    {
      "cell_type": "markdown",
      "metadata": {
        "id": "lAHafllhttIv",
        "colab_type": "text"
      },
      "source": [
        ""
      ]
    },
    {
      "cell_type": "code",
      "metadata": {
        "id": "RGlijphbupwF",
        "colab_type": "code",
        "colab": {}
      },
      "source": [
        "fin = pd.read_csv('/content/drive/My Drive/kaggle/input/test.csv')\n",
        "fin.head()\n",
        "\n",
        "passsengerid = fin['PassengerId']\n",
        "fin.isnull().sum()\n",
        "fin['Fare'] = fin['Fare'].fillna(fin['Fare'].median())\n",
        "fin['Age'] = fin['Age'].fillna(fin['Age'].median())\n",
        "fin['Embarked'] = fin['Embarked'].fillna('S')\n",
        "\n",
        "#カテゴリ変数の変換\n",
        "fin['Sex'] = fin['Sex'].apply(lambda x: 1 if x == 'male' else 0)\n",
        "fin['Embarked'] = fin['Embarked'].map( {'S': 0 , 'C':1 , 'Q':2}).astype(int)\n",
        "\n",
        "#不要なcolumnを削除\n",
        "fin= fin.drop(['Cabin','Name','Ticket','PassengerId'],axis =1)\n",
        "#ランダムフォレストで予測\n",
        "predictions = clf.predict(fin)\n",
        "\n",
        "submission = pd.DataFrame({'PassengerId':passsengerid, 'Survived':predictions})\n",
        "submission.to_csv('/content/drive/My Drive/kaggle/output/submission.csv' , index = False)"
      ],
      "execution_count": 20,
      "outputs": []
    }
  ]
}